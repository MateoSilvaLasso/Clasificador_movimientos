{
 "cells": [
  {
   "cell_type": "code",
   "source": [
    "!pip install -q mediapipe"
   ],
   "metadata": {
    "colab": {
     "base_uri": "https://localhost:8080/"
    },
    "id": "i0L0ctzqVEXM",
    "outputId": "ee7eb0a5-1c5c-485f-a7e5-d3571796ce9c"
   },
   "execution_count": 3,
   "outputs": [
    {
     "name": "stderr",
     "output_type": "stream",
     "text": [
      "\n",
      "[notice] A new release of pip is available: 23.2.1 -> 24.3.1\n",
      "[notice] To update, run: C:\\Users\\lchar\\AppData\\Local\\Programs\\Python\\Python311\\python.exe -m pip install --upgrade pip\n"
     ]
    }
   ]
  },
  {
   "cell_type": "code",
   "source": [
    "!curl -o pose_landmarker_heavy.task https://storage.googleapis.com/mediapipe-models/pose_landmarker/pose_landmarker_heavy/float16/1/pose_landmarker_heavy.task"
   ],
   "metadata": {
    "colab": {
     "base_uri": "https://localhost:8080/"
    },
    "id": "EOftePYpsd5_",
    "outputId": "a4464f24-ce4c-4445-cdce-13b2992ce22b"
   },
   "execution_count": 4,
   "outputs": [
    {
     "name": "stderr",
     "output_type": "stream",
     "text": [
      "  % Total    % Received % Xferd  Average Speed   Time    Time     Time  Current\n",
      "                                 Dload  Upload   Total   Spent    Left  Speed\n",
      "\n",
      "  0     0    0     0    0     0      0      0 --:--:-- --:--:-- --:--:--     0\n",
      "  0     0    0     0    0     0      0      0 --:--:-- --:--:-- --:--:--     0\n",
      " 19 29.2M   19 5949k    0     0  4230k      0  0:00:07  0:00:01  0:00:06 4243k\n",
      "100 29.2M  100 29.2M    0     0  15.5M      0  0:00:01  0:00:01 --:--:-- 15.6M\n"
     ]
    }
   ]
  },
  {
   "cell_type": "code",
   "execution_count": 6,
   "metadata": {
    "id": "NxMw5MibUmZP"
   },
   "outputs": [
    {
     "ename": "ModuleNotFoundError",
     "evalue": "No module named 'pandas'",
     "output_type": "error",
     "traceback": [
      "\u001B[1;31m---------------------------------------------------------------------------\u001B[0m",
      "\u001B[1;31mModuleNotFoundError\u001B[0m                       Traceback (most recent call last)",
      "Cell \u001B[1;32mIn[6], line 5\u001B[0m\n\u001B[0;32m      3\u001B[0m \u001B[38;5;28;01mimport\u001B[39;00m \u001B[38;5;21;01mnumpy\u001B[39;00m \u001B[38;5;28;01mas\u001B[39;00m \u001B[38;5;21;01mnp\u001B[39;00m\n\u001B[0;32m      4\u001B[0m \u001B[38;5;28;01mimport\u001B[39;00m \u001B[38;5;21;01mjoblib\u001B[39;00m\n\u001B[1;32m----> 5\u001B[0m \u001B[38;5;28;01mimport\u001B[39;00m \u001B[38;5;21;01mpandas\u001B[39;00m \u001B[38;5;28;01mas\u001B[39;00m \u001B[38;5;21;01mpd\u001B[39;00m\n\u001B[0;32m      6\u001B[0m \u001B[38;5;28;01mfrom\u001B[39;00m \u001B[38;5;21;01mscipy\u001B[39;00m\u001B[38;5;21;01m.\u001B[39;00m\u001B[38;5;21;01mndimage\u001B[39;00m \u001B[38;5;28;01mimport\u001B[39;00m gaussian_filter1d\n\u001B[0;32m      7\u001B[0m \u001B[38;5;28;01mfrom\u001B[39;00m \u001B[38;5;21;01mmediapipe\u001B[39;00m\u001B[38;5;21;01m.\u001B[39;00m\u001B[38;5;21;01mtasks\u001B[39;00m\u001B[38;5;21;01m.\u001B[39;00m\u001B[38;5;21;01mpython\u001B[39;00m\u001B[38;5;21;01m.\u001B[39;00m\u001B[38;5;21;01mvision\u001B[39;00m\u001B[38;5;21;01m.\u001B[39;00m\u001B[38;5;21;01mpose_landmarker\u001B[39;00m \u001B[38;5;28;01mimport\u001B[39;00m PoseLandmarker\n",
      "\u001B[1;31mModuleNotFoundError\u001B[0m: No module named 'pandas'"
     ]
    }
   ],
   "source": [
    "import cv2\n",
    "import mediapipe as mp\n",
    "import numpy as np\n",
    "import joblib\n",
    "import pandas as pd\n",
    "from scipy.ndimage import gaussian_filter1d\n",
    "from mediapipe.tasks.python.vision.pose_landmarker import PoseLandmarker\n",
    "from mediapipe.tasks import python as p\n",
    "from mediapipe.tasks.python import vision\n"
   ]
  },
  {
   "cell_type": "code",
   "execution_count": 5,
   "metadata": {
    "id": "8aOzbIVuUmZR"
   },
   "outputs": [],
   "source": [
    "modelo = joblib.load(\"modelo_clasificacion_actividades.pkl\")"
   ]
  },
  {
   "cell_type": "code",
   "execution_count": 6,
   "metadata": {
    "scrolled": true,
    "id": "OLtzIfbmUmZR"
   },
   "outputs": [],
   "source": [
    "# Configuración del detector de MediaPipe\n",
    "BaseOptions = mp.tasks.BaseOptions\n",
    "PoseLandmarker = mp.tasks.vision.PoseLandmarker\n",
    "PoseLandmarkerOptions = mp.tasks.vision.PoseLandmarkerOptions\n",
    "VisionRunningMode = mp.tasks.vision.RunningMode"
   ]
  },
  {
   "cell_type": "code",
   "execution_count": 7,
   "metadata": {
    "id": "KUsruo7PUmZS"
   },
   "outputs": [],
   "source": [
    "def normalizar_coordenadas(df):\n",
    "    cadera_derecha = df[df['landmark_index'] == 23][['x', 'y', 'z']].mean()\n",
    "    cadera_izquierda = df[df['landmark_index'] == 24][['x', 'y', 'z']].mean()\n",
    "    cadera_centro = (cadera_derecha + cadera_izquierda) / 2\n",
    "\n",
    "    df['x'] -= cadera_centro['x']\n",
    "    df['y'] -= cadera_centro['y']\n",
    "    df['z'] -= cadera_centro['z']\n",
    "\n",
    "    hombro_derecho = df[df['landmark_index'] == 11][['x', 'y', 'z']].mean()\n",
    "    hombro_izquierdo = df[df['landmark_index'] == 12][['x', 'y', 'z']].mean()\n",
    "    torso_tamano = np.linalg.norm(hombro_derecho - hombro_izquierdo)\n",
    "\n",
    "    df['x'] /= torso_tamano\n",
    "    df['y'] /= torso_tamano\n",
    "    df['z'] /= torso_tamano\n",
    "\n",
    "    return df"
   ]
  },
  {
   "cell_type": "code",
   "execution_count": 8,
   "metadata": {
    "id": "t4ywdf_DUmZT"
   },
   "outputs": [],
   "source": [
    "def filtrar_datos(df):\n",
    "    # Convertir las columnas x, y, z a tipo float\n",
    "    df['x'] = df['x'].astype(float)\n",
    "    df['y'] = df['y'].astype(float)\n",
    "    df['z'] = df['z'].astype(float)\n",
    "\n",
    "    # Aplicar el filtro gaussiano\n",
    "    df['x'] = gaussian_filter1d(df['x'], sigma=2)\n",
    "    df['y'] = gaussian_filter1d(df['y'], sigma=2)\n",
    "    df['z'] = gaussian_filter1d(df['z'], sigma=2)\n",
    "\n",
    "    return df\n"
   ]
  },
  {
   "cell_type": "code",
   "execution_count": 9,
   "metadata": {
    "id": "96SpUN6JUmZT"
   },
   "outputs": [],
   "source": [
    "def calcular_angulo(p1, p2, p3):\n",
    "    vector1 = p1 - p2\n",
    "    vector2 = p3 - p2\n",
    "    cos_theta = np.dot(vector1, vector2) / (np.linalg.norm(vector1) * np.linalg.norm(vector2))\n",
    "    angulo = np.arccos(np.clip(cos_theta, -1.0, 1.0))\n",
    "    return np.degrees(angulo)"
   ]
  },
  {
   "cell_type": "code",
   "execution_count": 10,
   "metadata": {
    "id": "eNXdEyrvUmZT"
   },
   "outputs": [],
   "source": [
    "def extract_landmarks_to_dataframe(detection_result):\n",
    "    # Crear una lista para almacenar las coordenadas de cada landmark\n",
    "    landmarks = []\n",
    "    for pose_landmark in detection_result.pose_landmarks:\n",
    "        for landmark in pose_landmark:\n",
    "            landmarks.append([landmark.x, landmark.y, landmark.z, landmark.visibility])\n",
    "\n",
    "    # Convertir la lista a un DataFrame de pandas\n",
    "    df_landmarks = pd.DataFrame(landmarks, columns=['x', 'y', 'z', 'visibility'])\n",
    "\n",
    "    # Agregar una columna de índice para los landmarks\n",
    "    df_landmarks['landmark_index'] = df_landmarks.index\n",
    "    return df_landmarks\n",
    "\n"
   ]
  },
  {
   "cell_type": "code",
   "execution_count": 11,
   "metadata": {
    "id": "VZM-QI7SUmZU"
   },
   "outputs": [],
   "source": [
    "def generar_caracteristicas(df):\n",
    "    articulaciones_clave = [11, 12, 13, 14, 15, 16, 23, 24]\n",
    "\n",
    "    velocidades = []\n",
    "    angulos_codo_derecho = []\n",
    "    angulos_codo_izquierdo = []\n",
    "    angulos_tronco = []\n",
    "\n",
    "    for articulacion in articulaciones_clave:\n",
    "        actual = df[df['landmark_index'] == articulacion]\n",
    "        if len(actual) > 1:\n",
    "            vel_x = actual['x'].iloc[-1] - actual['x'].iloc[-2]\n",
    "            vel_y = actual['y'].iloc[-1] - actual['y'].iloc[-2]\n",
    "            vel_z = actual['z'].iloc[-1] - actual['z'].iloc[-2]\n",
    "            velocidad = np.sqrt(vel_x**2 + vel_y**2 + vel_z**2)\n",
    "            velocidades.append(velocidad)\n",
    "\n",
    "    hombro_derecho = df[df['landmark_index'] == 11][['x', 'y', 'z']].values\n",
    "    codo_derecho = df[df['landmark_index'] == 13][['x', 'y', 'z']].values\n",
    "    muneca_derecha = df[df['landmark_index'] == 15][['x', 'y', 'z']].values\n",
    "\n",
    "    if hombro_derecho.size > 0 and codo_derecho.size > 0 and muneca_derecha.size > 0:\n",
    "        angulos_codo_derecho.append(calcular_angulo(hombro_derecho[0], codo_derecho[0], muneca_derecha[0]))\n",
    "\n",
    "    hombro_izquierdo = df[df['landmark_index'] == 12][['x', 'y', 'z']].values\n",
    "    codo_izquierdo = df[df['landmark_index'] == 14][['x', 'y', 'z']].values\n",
    "    muneca_izquierda = df[df['landmark_index'] == 16][['x', 'y', 'z']].values\n",
    "\n",
    "    if hombro_izquierdo.size > 0 and codo_izquierdo.size > 0 and muneca_izquierda.size > 0:\n",
    "        angulos_codo_izquierdo.append(calcular_angulo(hombro_izquierdo[0], codo_izquierdo[0], muneca_izquierda[0]))\n",
    "\n",
    "    if hombro_derecho.size > 0 and hombro_izquierdo.size > 0:\n",
    "        cadera_centro = (df[df['landmark_index'] == 23][['x', 'y', 'z']].values +\n",
    "                         df[df['landmark_index'] == 24][['x', 'y', 'z']].values) / 2\n",
    "        angulos_tronco.append(calcular_angulo(hombro_derecho[0], cadera_centro[0], hombro_izquierdo[0]))\n",
    "\n",
    "    return [\n",
    "        np.mean(velocidades), np.std(velocidades),\n",
    "        np.mean(angulos_codo_derecho), np.std(angulos_codo_derecho),\n",
    "        np.mean(angulos_codo_izquierdo), np.std(angulos_codo_izquierdo),\n",
    "        np.mean(angulos_tronco), np.std(angulos_tronco)\n",
    "    ]"
   ]
  },
  {
   "cell_type": "code",
   "execution_count": 24,
   "metadata": {
    "colab": {
     "base_uri": "https://localhost:8080/"
    },
    "id": "h-t0jLP5UmZU",
    "outputId": "c6ea01ba-5782-488c-9c07-8a46a8d75abd"
   },
   "outputs": [
    {
     "output_type": "stream",
     "name": "stdout",
     "text": [
      "BaseOptions(model_asset_path='pose_landmarker_heavy.task', model_asset_buffer=None, delegate=None)\n"
     ]
    }
   ],
   "source": [
    "# Inicializar el detector\n",
    "base_options = p.BaseOptions(model_asset_path='pose_landmarker_heavy.task')\n",
    "options = vision.PoseLandmarkerOptions(\n",
    "    base_options=base_options,\n",
    "    output_segmentation_masks=True)\n",
    "print(base_options)\n",
    "detector = vision.PoseLandmarker.create_from_options(options)\n",
    "\n",
    "cap = cv2.VideoCapture(0)\n",
    "while cap.isOpened():\n",
    "    ret, frame = cap.read()\n",
    "    if not ret:\n",
    "        break\n",
    "\n",
    "    # Procesamiento de la imagen para obtener landmarks\n",
    "    rgb_frame = cv2.cvtColor(frame, cv2.COLOR_BGR2RGB)\n",
    "    mp_image = mp.Image(image_format=mp.ImageFormat.SRGB, data=rgb_frame)\n",
    "    detection_result = detector.detect(mp_image)\n",
    "\n",
    "    # Verificar si hay puntos clave detectados\n",
    "    if detection_result.pose_landmarks:\n",
    "        # Dibujar los puntos de MediaPipe en el marco\n",
    "        for landmark in detection_result.pose_landmarks.landmark:\n",
    "            x = int(landmark.x * frame.shape[1])\n",
    "            y = int(landmark.y * frame.shape[0])\n",
    "            cv2.circle(frame, (x, y), 5, (0, 255, 0), -1)\n",
    "\n",
    "    df_landmarks = extract_landmarks_to_dataframe(detection_result)\n",
    "    df_landmarks = normalizar_coordenadas(df_landmarks)\n",
    "    df_landmarks = filtrar_datos(df_landmarks)\n",
    "\n",
    "    caracteristicas = generar_caracteristicas(df_landmarks)\n",
    "    prediccion = modelo.predict([caracteristicas])[0]\n",
    "\n",
    "    # Mostrar la predicción\n",
    "    cv2.putText(frame, f'Prediccion: {prediccion}', (10, 30), cv2.FONT_HERSHEY_SIMPLEX, 1, (0, 255, 0), 2)\n",
    "    cv2.imshow('Prediccion en tiempo real', frame)\n",
    "\n",
    "    if cv2.waitKey(1) & 0xFF == ord('q'):\n",
    "        break\n",
    "\n",
    "cap.release()\n",
    "cv2.destroyAllWindows()"
   ]
  }
 ],
 "metadata": {
  "kernelspec": {
   "display_name": "Python 3",
   "language": "python",
   "name": "python3"
  },
  "language_info": {
   "codemirror_mode": {
    "name": "ipython",
    "version": 3
   },
   "file_extension": ".py",
   "mimetype": "text/x-python",
   "name": "python",
   "nbconvert_exporter": "python",
   "pygments_lexer": "ipython3",
   "version": "3.13.0"
  },
  "colab": {
   "provenance": []
  }
 },
 "nbformat": 4,
 "nbformat_minor": 0
}
