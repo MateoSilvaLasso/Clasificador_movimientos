{
 "cells": [
  {
   "cell_type": "code",
   "execution_count": 149,
   "metadata": {
    "vscode": {
     "languageId": "plaintext"
    }
   },
   "outputs": [],
   "source": [
    "import cv2\n",
    "import mediapipe as mp\n",
    "import numpy as np\n",
    "import joblib\n",
    "import pandas as pd\n",
    "from scipy.ndimage import gaussian_filter1d\n",
    "from mediapipe.tasks.python.vision.pose_landmarker import PoseLandmarker\n",
    "from mediapipe.tasks import python as p\n",
    "from mediapipe.tasks.python import vision\n",
    "\n",
    "\n"
   ]
  },
  {
   "cell_type": "code",
   "execution_count": 125,
   "metadata": {},
   "outputs": [],
   "source": [
    "modelo = joblib.load(\"modelo_clasificacion_actividades.pkl\")"
   ]
  },
  {
   "cell_type": "code",
   "execution_count": 127,
   "metadata": {
    "scrolled": true
   },
   "outputs": [],
   "source": [
    "# Configuración del detector de MediaPipe\n",
    "BaseOptions = mp.tasks.BaseOptions\n",
    "PoseLandmarker = mp.tasks.vision.PoseLandmarker\n",
    "PoseLandmarkerOptions = mp.tasks.vision.PoseLandmarkerOptions\n",
    "VisionRunningMode = mp.tasks.vision.RunningMode"
   ]
  },
  {
   "cell_type": "code",
   "execution_count": 131,
   "metadata": {},
   "outputs": [],
   "source": [
    "def normalizar_coordenadas(df):\n",
    "    cadera_derecha = df[df['landmark_index'] == 23][['x', 'y', 'z']].mean()\n",
    "    cadera_izquierda = df[df['landmark_index'] == 24][['x', 'y', 'z']].mean()\n",
    "    cadera_centro = (cadera_derecha + cadera_izquierda) / 2\n",
    "    \n",
    "    df['x'] -= cadera_centro['x']\n",
    "    df['y'] -= cadera_centro['y']\n",
    "    df['z'] -= cadera_centro['z']\n",
    "    \n",
    "    hombro_derecho = df[df['landmark_index'] == 11][['x', 'y', 'z']].mean()\n",
    "    hombro_izquierdo = df[df['landmark_index'] == 12][['x', 'y', 'z']].mean()\n",
    "    torso_tamano = np.linalg.norm(hombro_derecho - hombro_izquierdo)\n",
    "    \n",
    "    df['x'] /= torso_tamano\n",
    "    df['y'] /= torso_tamano\n",
    "    df['z'] /= torso_tamano\n",
    "    \n",
    "    return df"
   ]
  },
  {
   "cell_type": "code",
   "execution_count": 133,
   "metadata": {},
   "outputs": [],
   "source": [
    "def filtrar_datos(df):\n",
    "    df['x'] = gaussian_filter1d(df['x'], sigma=2)\n",
    "    df['y'] = gaussian_filter1d(df['y'], sigma=2)\n",
    "    df['z'] = gaussian_filter1d(df['z'], sigma=2)\n",
    "    return df"
   ]
  },
  {
   "cell_type": "code",
   "execution_count": 135,
   "metadata": {},
   "outputs": [],
   "source": [
    "def calcular_angulo(p1, p2, p3):\n",
    "    vector1 = p1 - p2\n",
    "    vector2 = p3 - p2\n",
    "    cos_theta = np.dot(vector1, vector2) / (np.linalg.norm(vector1) * np.linalg.norm(vector2))\n",
    "    angulo = np.arccos(np.clip(cos_theta, -1.0, 1.0))\n",
    "    return np.degrees(angulo)"
   ]
  },
  {
   "cell_type": "code",
   "execution_count": 137,
   "metadata": {},
   "outputs": [],
   "source": [
    "def generar_caracteristicas(df):\n",
    "    articulaciones_clave = [11, 12, 13, 14, 15, 16, 23, 24]\n",
    "    \n",
    "    velocidades = []\n",
    "    angulos_codo_derecho = []\n",
    "    angulos_codo_izquierdo = []\n",
    "    angulos_tronco = []\n",
    "    \n",
    "    for articulacion in articulaciones_clave:\n",
    "        actual = df[df['landmark_index'] == articulacion]\n",
    "        if len(actual) > 1:\n",
    "            vel_x = actual['x'].iloc[-1] - actual['x'].iloc[-2]\n",
    "            vel_y = actual['y'].iloc[-1] - actual['y'].iloc[-2]\n",
    "            vel_z = actual['z'].iloc[-1] - actual['z'].iloc[-2]\n",
    "            velocidad = np.sqrt(vel_x**2 + vel_y**2 + vel_z**2)\n",
    "            velocidades.append(velocidad)\n",
    "\n",
    "    hombro_derecho = df[df['landmark_index'] == 11][['x', 'y', 'z']].values\n",
    "    codo_derecho = df[df['landmark_index'] == 13][['x', 'y', 'z']].values\n",
    "    muneca_derecha = df[df['landmark_index'] == 15][['x', 'y', 'z']].values\n",
    "    \n",
    "    if hombro_derecho.size > 0 and codo_derecho.size > 0 and muneca_derecha.size > 0:\n",
    "        angulos_codo_derecho.append(calcular_angulo(hombro_derecho[0], codo_derecho[0], muneca_derecha[0]))\n",
    "    \n",
    "    hombro_izquierdo = df[df['landmark_index'] == 12][['x', 'y', 'z']].values\n",
    "    codo_izquierdo = df[df['landmark_index'] == 14][['x', 'y', 'z']].values\n",
    "    muneca_izquierda = df[df['landmark_index'] == 16][['x', 'y', 'z']].values\n",
    "    \n",
    "    if hombro_izquierdo.size > 0 and codo_izquierdo.size > 0 and muneca_izquierda.size > 0:\n",
    "        angulos_codo_izquierdo.append(calcular_angulo(hombro_izquierdo[0], codo_izquierdo[0], muneca_izquierda[0]))\n",
    "    \n",
    "    if hombro_derecho.size > 0 and hombro_izquierdo.size > 0:\n",
    "        cadera_centro = (df[df['landmark_index'] == 23][['x', 'y', 'z']].values +\n",
    "                         df[df['landmark_index'] == 24][['x', 'y', 'z']].values) / 2\n",
    "        angulos_tronco.append(calcular_angulo(hombro_derecho[0], cadera_centro[0], hombro_izquierdo[0]))\n",
    "\n",
    "    return [\n",
    "        np.mean(velocidades), np.std(velocidades),\n",
    "        np.mean(angulos_codo_derecho), np.std(angulos_codo_derecho),\n",
    "        np.mean(angulos_codo_izquierdo), np.std(angulos_codo_izquierdo),\n",
    "        np.mean(angulos_tronco), np.std(angulos_tronco)\n",
    "    ]"
   ]
  },
  {
   "cell_type": "code",
   "execution_count": 151,
   "metadata": {},
   "outputs": [
    {
     "name": "stdout",
     "output_type": "stream",
     "text": [
      "BaseOptions(model_asset_path='pose_landmarker_heavy.task', model_asset_buffer=None, delegate=None)\n"
     ]
    },
    {
     "ename": "RuntimeError",
     "evalue": "Unable to open file at C:\\Users\\mateo\\AppData\\Roaming\\Python\\Python312\\site-packages/C:\\Users\\mateo\\Desktop\\Semestre 7\\IA\\Final_work\\pose_landmarker_heavy.task, errno=22",
     "output_type": "error",
     "traceback": [
      "\u001b[1;31m---------------------------------------------------------------------------\u001b[0m",
      "\u001b[1;31mRuntimeError\u001b[0m                              Traceback (most recent call last)",
      "Cell \u001b[1;32mIn[151], line 7\u001b[0m\n\u001b[0;32m      3\u001b[0m options \u001b[38;5;241m=\u001b[39m vision\u001b[38;5;241m.\u001b[39mPoseLandmarkerOptions(\n\u001b[0;32m      4\u001b[0m     base_options\u001b[38;5;241m=\u001b[39mbase_options,\n\u001b[0;32m      5\u001b[0m     output_segmentation_masks\u001b[38;5;241m=\u001b[39m\u001b[38;5;28;01mTrue\u001b[39;00m)\n\u001b[0;32m      6\u001b[0m \u001b[38;5;28mprint\u001b[39m(base_options)\n\u001b[1;32m----> 7\u001b[0m detector \u001b[38;5;241m=\u001b[39m vision\u001b[38;5;241m.\u001b[39mPoseLandmarker\u001b[38;5;241m.\u001b[39mcreate_from_options(options)\n\u001b[0;32m      9\u001b[0m cap \u001b[38;5;241m=\u001b[39m cv2\u001b[38;5;241m.\u001b[39mVideoCapture(\u001b[38;5;241m0\u001b[39m)\n\u001b[0;32m     10\u001b[0m \u001b[38;5;28;01mwhile\u001b[39;00m cap\u001b[38;5;241m.\u001b[39misOpened():\n",
      "File \u001b[1;32m~\\AppData\\Roaming\\Python\\Python312\\site-packages\\mediapipe\\tasks\\python\\vision\\pose_landmarker.py:319\u001b[0m, in \u001b[0;36mPoseLandmarker.create_from_options\u001b[1;34m(cls, options)\u001b[0m\n\u001b[0;32m    306\u001b[0m   output_streams\u001b[38;5;241m.\u001b[39mappend(\n\u001b[0;32m    307\u001b[0m       \u001b[38;5;124m'\u001b[39m\u001b[38;5;124m:\u001b[39m\u001b[38;5;124m'\u001b[39m\u001b[38;5;241m.\u001b[39mjoin([_SEGMENTATION_MASK_TAG, _SEGMENTATION_MASK_STREAM_NAME])\n\u001b[0;32m    308\u001b[0m   )\n\u001b[0;32m    310\u001b[0m task_info \u001b[38;5;241m=\u001b[39m _TaskInfo(\n\u001b[0;32m    311\u001b[0m     task_graph\u001b[38;5;241m=\u001b[39m_TASK_GRAPH_NAME,\n\u001b[0;32m    312\u001b[0m     input_streams\u001b[38;5;241m=\u001b[39m[\n\u001b[1;32m   (...)\u001b[0m\n\u001b[0;32m    317\u001b[0m     task_options\u001b[38;5;241m=\u001b[39moptions,\n\u001b[0;32m    318\u001b[0m )\n\u001b[1;32m--> 319\u001b[0m \u001b[38;5;28;01mreturn\u001b[39;00m \u001b[38;5;28mcls\u001b[39m(\n\u001b[0;32m    320\u001b[0m     task_info\u001b[38;5;241m.\u001b[39mgenerate_graph_config(\n\u001b[0;32m    321\u001b[0m         enable_flow_limiting\u001b[38;5;241m=\u001b[39moptions\u001b[38;5;241m.\u001b[39mrunning_mode\n\u001b[0;32m    322\u001b[0m         \u001b[38;5;241m==\u001b[39m _RunningMode\u001b[38;5;241m.\u001b[39mLIVE_STREAM\n\u001b[0;32m    323\u001b[0m     ),\n\u001b[0;32m    324\u001b[0m     options\u001b[38;5;241m.\u001b[39mrunning_mode,\n\u001b[0;32m    325\u001b[0m     packets_callback \u001b[38;5;28;01mif\u001b[39;00m options\u001b[38;5;241m.\u001b[39mresult_callback \u001b[38;5;28;01melse\u001b[39;00m \u001b[38;5;28;01mNone\u001b[39;00m,\n\u001b[0;32m    326\u001b[0m )\n",
      "File \u001b[1;32m~\\AppData\\Roaming\\Python\\Python312\\site-packages\\mediapipe\\tasks\\python\\vision\\core\\base_vision_task_api.py:70\u001b[0m, in \u001b[0;36mBaseVisionTaskApi.__init__\u001b[1;34m(self, graph_config, running_mode, packet_callback)\u001b[0m\n\u001b[0;32m     65\u001b[0m \u001b[38;5;28;01melif\u001b[39;00m packet_callback:\n\u001b[0;32m     66\u001b[0m   \u001b[38;5;28;01mraise\u001b[39;00m \u001b[38;5;167;01mValueError\u001b[39;00m(\n\u001b[0;32m     67\u001b[0m       \u001b[38;5;124m'\u001b[39m\u001b[38;5;124mThe vision task is in image or video mode, a user-defined result \u001b[39m\u001b[38;5;124m'\u001b[39m\n\u001b[0;32m     68\u001b[0m       \u001b[38;5;124m'\u001b[39m\u001b[38;5;124mcallback should not be provided.\u001b[39m\u001b[38;5;124m'\u001b[39m\n\u001b[0;32m     69\u001b[0m   )\n\u001b[1;32m---> 70\u001b[0m \u001b[38;5;28mself\u001b[39m\u001b[38;5;241m.\u001b[39m_runner \u001b[38;5;241m=\u001b[39m _TaskRunner\u001b[38;5;241m.\u001b[39mcreate(graph_config, packet_callback)\n\u001b[0;32m     71\u001b[0m \u001b[38;5;28mself\u001b[39m\u001b[38;5;241m.\u001b[39m_running_mode \u001b[38;5;241m=\u001b[39m running_mode\n",
      "\u001b[1;31mRuntimeError\u001b[0m: Unable to open file at C:\\Users\\mateo\\AppData\\Roaming\\Python\\Python312\\site-packages/C:\\Users\\mateo\\Desktop\\Semestre 7\\IA\\Final_work\\pose_landmarker_heavy.task, errno=22"
     ]
    }
   ],
   "source": [
    "# Inicializar el detector\n",
    "base_options = p.BaseOptions(model_asset_path='pose_landmarker_heavy.task')\n",
    "options = vision.PoseLandmarkerOptions(\n",
    "    base_options=base_options,\n",
    "    output_segmentation_masks=True)\n",
    "print(base_options)\n",
    "detector = vision.PoseLandmarker.create_from_options(options)\n",
    "\n",
    "cap = cv2.VideoCapture(0)\n",
    "while cap.isOpened():\n",
    "    ret, frame = cap.read()\n",
    "    if not ret:\n",
    "        break\n",
    "\n",
    "    # Procesamiento de la imagen para obtener landmarks\n",
    "    rgb_frame = cv2.cvtColor(frame, cv2.COLOR_BGR2RGB)\n",
    "    mp_image = mp.Image(image_format=mp.ImageFormat.SRGB, data=rgb_frame)\n",
    "    detection_result = detector.detect(mp_image)\n",
    "\n",
    "    df_landmarks = extract_landmarks_to_dataframe(detection_result)  # Asegúrate de que se incluyan todas las columnas requeridas\n",
    "    df_landmarks = normalizar_coordenadas(df_landmarks)\n",
    "    df_landmarks = filtrar_datos(df_landmarks)\n",
    "    \n",
    "    caracteristicas = generar_caracteristicas(df_landmarks)\n",
    "    prediccion = modelo.predict([caracteristicas])[0]\n",
    "\n",
    "    # Mostrar la predicción\n",
    "    cv2.putText(frame, f'Prediccion: {prediccion}', (10, 30), cv2.FONT_HERSHEY_SIMPLEX, 1, (0, 255, 0), 2)\n",
    "    cv2.imshow('Prediccion en tiempo real', frame)\n",
    "\n",
    "    if cv2.waitKey(1) & 0xFF == ord('q'):\n",
    "        break\n",
    "\n",
    "cap.release()\n",
    "cv2.destroyAllWindows()"
   ]
  }
 ],
 "metadata": {
  "kernelspec": {
   "display_name": "Python 3 (ipykernel)",
   "language": "python",
   "name": "python3"
  },
  "language_info": {
   "codemirror_mode": {
    "name": "ipython",
    "version": 3
   },
   "file_extension": ".py",
   "mimetype": "text/x-python",
   "name": "python",
   "nbconvert_exporter": "python",
   "pygments_lexer": "ipython3",
   "version": "3.12.7"
  }
 },
 "nbformat": 4,
 "nbformat_minor": 4
}
