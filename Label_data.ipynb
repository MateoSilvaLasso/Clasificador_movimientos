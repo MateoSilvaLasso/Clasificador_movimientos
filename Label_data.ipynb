{
 "cells": [
  {
   "cell_type": "code",
   "execution_count": 7,
   "metadata": {},
   "outputs": [],
   "source": [
    "!pip install -q mediapipe"
   ]
  },
  {
   "cell_type": "code",
   "execution_count": 8,
   "metadata": {},
   "outputs": [
    {
     "name": "stderr",
     "output_type": "stream",
     "text": [
      "  % Total    % Received % Xferd  Average Speed   Time    Time     Time  Current\n",
      "                                 Dload  Upload   Total   Spent    Left  Speed\n",
      "\n",
      "  0     0    0     0    0     0      0      0 --:--:-- --:--:-- --:--:--     0\n",
      "  0 29.2M    0 90245    0     0   110k      0  0:04:29 --:--:--  0:04:29  111k\n",
      " 58 29.2M   58 16.9M    0     0  9672k      0  0:00:03  0:00:01  0:00:02 9690k\n",
      "100 29.2M  100 29.2M    0     0  12.0M      0  0:00:02  0:00:02 --:--:-- 12.0M\n"
     ]
    }
   ],
   "source": [
    "!curl -o pose_landmarker_heavy.task https://storage.googleapis.com/mediapipe-models/pose_landmarker/pose_landmarker_heavy/float16/1/pose_landmarker_heavy.task"
   ]
  },
  {
   "cell_type": "code",
   "execution_count": 9,
   "metadata": {},
   "outputs": [],
   "source": [
    "from mediapipe import solutions\n",
    "from mediapipe.framework.formats import landmark_pb2\n",
    "import numpy as np\n",
    "import cv2\n",
    "import mediapipe as mp\n",
    "from mediapipe.tasks import python\n",
    "from mediapipe.tasks.python import vision\n",
    "import json\n",
    "import csv\n",
    "import os"
   ]
  },
  {
   "cell_type": "code",
   "execution_count": 10,
   "metadata": {},
   "outputs": [],
   "source": [
    "def draw_landmarks_on_image(rgb_image, detection_result):\n",
    "    pose_landmarks_list = detection_result.pose_landmarks\n",
    "    annotated_image = np.copy(rgb_image)\n",
    "\n",
    "    for idx in range(len(pose_landmarks_list)):\n",
    "        pose_landmarks = pose_landmarks_list[idx]\n",
    "        pose_landmarks_proto = landmark_pb2.NormalizedLandmarkList()\n",
    "        pose_landmarks_proto.landmark.extend([\n",
    "            landmark_pb2.NormalizedLandmark(x=landmark.x, y=landmark.y, z=landmark.z) for landmark in pose_landmarks\n",
    "        ])\n",
    "        solutions.drawing_utils.draw_landmarks(\n",
    "            annotated_image,\n",
    "            pose_landmarks_proto,\n",
    "            solutions.pose.POSE_CONNECTIONS,\n",
    "            solutions.drawing_styles.get_default_pose_landmarks_style())\n",
    "    return annotated_image"
   ]
  },
  {
   "cell_type": "code",
   "execution_count": 11,
   "metadata": {},
   "outputs": [],
   "source": [
    "def extract_landmarks(detection_result):\n",
    "    landmarks = []\n",
    "    for pose_landmarks in detection_result.pose_landmarks:\n",
    "        for landmark in pose_landmarks:\n",
    "            landmarks.append({\n",
    "                'x': landmark.x,\n",
    "                'y': landmark.y,\n",
    "                'z': landmark.z,\n",
    "                'visibility': landmark.visibility\n",
    "            })\n",
    "    return landmarks"
   ]
  },
  {
   "cell_type": "code",
   "execution_count": 12,
   "metadata": {},
   "outputs": [
    {
     "name": "stdout",
     "output_type": "stream",
     "text": [
      "datos_Mateo\\caminar hacia atras\\VID-20241028-WA0019.mp4\n",
      "datos_Mateo\\caminar hacia atras\\VID-20241028-WA0020.mp4\n",
      "datos_Mateo\\caminar hacia atras\\VID-20241028-WA0021.mp4\n",
      "datos_Mateo\\caminar hacia atras\\VID-20241028-WA0022.mp4\n",
      "datos_Mateo\\caminar hacia delante\\VID-20241028-WA0013.mp4\n",
      "datos_Mateo\\caminar hacia delante\\VID-20241028-WA0014.mp4\n",
      "datos_Mateo\\caminar hacia delante\\VID-20241028-WA0015.mp4\n",
      "datos_Mateo\\caminar hacia delante\\VID-20241028-WA0016.mp4\n",
      "datos_Mateo\\caminar hacia delante\\VID-20241028-WA0017.mp4\n",
      "datos_Mateo\\caminar hacia delante\\VID-20241028-WA0018.mp4\n",
      "datos_Mateo\\pararse\\VID-20241028-WA0008.mp4\n",
      "datos_Mateo\\pararse\\VID-20241028-WA0009.mp4\n",
      "datos_Mateo\\pararse\\VID-20241028-WA0010.mp4\n",
      "datos_Mateo\\pararse\\VID-20241028-WA0011.mp4\n",
      "datos_Mateo\\pararse\\VID-20241028-WA0012.mp4\n",
      "datos_Mateo\\Sentarse\\1.mp4\n",
      "datos_Mateo\\Sentarse\\2.mp4\n",
      "datos_Mateo\\Sentarse\\3.mp4\n",
      "datos_Mateo\\Sentarse\\4.mp4\n",
      "datos_Mateo\\Sentarse\\5.mp4\n"
     ]
    }
   ],
   "source": [
    "base_options = python.BaseOptions(model_asset_path='pose_landmarker_heavy.task')\n",
    "options = vision.PoseLandmarkerOptions(\n",
    "    base_options=base_options,\n",
    "    output_segmentation_masks=True)\n",
    "detector = vision.PoseLandmarker.create_from_options(options)\n",
    "\n",
    "# Ruta base donde están las carpetas de datos\n",
    "base_path = 'datos_Mateo'\n",
    "\n",
    "# Iterar sobre cada categoría de movimiento en la carpeta base\n",
    "for category in os.listdir(base_path):\n",
    "    category_path = os.path.join(base_path, category)\n",
    "    \n",
    "    # Revisar que sea una carpeta\n",
    "    if not os.path.isdir(category_path):\n",
    "        continue\n",
    "    \n",
    "    # Crear carpeta de salida para JSON y CSV de la categoría si no existe\n",
    "    output_json_path = os.path.join(category_path, 'json')\n",
    "    output_csv_path = os.path.join(category_path, 'csv')\n",
    "    os.makedirs(output_json_path, exist_ok=True)\n",
    "    os.makedirs(output_csv_path, exist_ok=True)\n",
    "    \n",
    "    # Procesar cada video en la categoría\n",
    "    for video_file in os.listdir(category_path):\n",
    "        if not video_file.endswith('.mp4'):\n",
    "            continue\n",
    "        \n",
    "        video_path = os.path.join(category_path, video_file)\n",
    "        print(video_path)\n",
    "        cap = cv2.VideoCapture(video_path)\n",
    "        all_landmarks = []\n",
    "\n",
    "        while cap.isOpened():\n",
    "            ret, frame = cap.read()\n",
    "            if not ret:\n",
    "                break\n",
    "\n",
    "            rgb_frame = cv2.cvtColor(frame, cv2.COLOR_BGR2RGB)\n",
    "            mp_image = mp.Image(image_format=mp.ImageFormat.SRGB, data=rgb_frame)\n",
    "            detection_result = detector.detect(mp_image)\n",
    "\n",
    "            landmarks = extract_landmarks(detection_result)\n",
    "            all_landmarks.append(landmarks)\n",
    "\n",
    "        cap.release()\n",
    "\n",
    "        # Guardar los datos en formato JSON\n",
    "        json_output_path = os.path.join(output_json_path, f\"{video_file.split('.')[0]}.json\")\n",
    "        with open(json_output_path, 'w') as json_file:\n",
    "            json.dump(all_landmarks, json_file, indent=4)\n",
    "\n",
    "        # Guardar los datos en formato CSV\n",
    "        csv_output_path = os.path.join(output_csv_path, f\"{video_file.split('.')[0]}.csv\")\n",
    "        csv_columns = ['frame', 'landmark_index', 'x', 'y', 'z', 'visibility']\n",
    "        with open(csv_output_path, 'w', newline='') as csvfile:\n",
    "            writer = csv.DictWriter(csvfile, fieldnames=csv_columns)\n",
    "            writer.writeheader()\n",
    "            for frame_index, frame_landmarks in enumerate(all_landmarks):\n",
    "                for landmark_index, landmark in enumerate(frame_landmarks):\n",
    "                    row = {\n",
    "                        'frame': frame_index,\n",
    "                        'landmark_index': landmark_index,\n",
    "                        'x': landmark['x'],\n",
    "                        'y': landmark['y'],\n",
    "                        'z': landmark['z'],\n",
    "                        'visibility': landmark['visibility']\n",
    "                    }\n",
    "                    writer.writerow(row)\n"
   ]
  },
  {
   "cell_type": "code",
   "execution_count": 48,
   "metadata": {},
   "outputs": [],
   "source": [
    "\n"
   ]
  },
  {
   "cell_type": "code",
   "execution_count": 49,
   "metadata": {},
   "outputs": [],
   "source": []
  }
 ],
 "metadata": {
  "kernelspec": {
   "display_name": ".venv",
   "language": "python",
   "name": "python3"
  },
  "language_info": {
   "codemirror_mode": {
    "name": "ipython",
    "version": 3
   },
   "file_extension": ".py",
   "mimetype": "text/x-python",
   "name": "python",
   "nbconvert_exporter": "python",
   "pygments_lexer": "ipython3",
   "version": "3.12.3"
  }
 },
 "nbformat": 4,
 "nbformat_minor": 4
}
