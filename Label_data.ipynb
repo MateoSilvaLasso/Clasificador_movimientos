{
 "cells": [
  {
   "cell_type": "code",
   "execution_count": 8,
   "metadata": {},
   "outputs": [],
   "source": [
    "!pip install -q mediapipe"
   ]
  },
  {
   "cell_type": "code",
   "execution_count": 13,
   "metadata": {},
   "outputs": [
    {
     "name": "stderr",
     "output_type": "stream",
     "text": [
      "  % Total    % Received % Xferd  Average Speed   Time    Time     Time  Current\n",
      "                                 Dload  Upload   Total   Spent    Left  Speed\n",
      "\n",
      "  0     0    0     0    0     0      0      0 --:--:-- --:--:-- --:--:--     0\n",
      "  1 29.2M    1  466k    0     0   564k      0  0:00:53 --:--:--  0:00:53  565k\n",
      "  6 29.2M    6 1806k    0     0   953k      0  0:00:31  0:00:01  0:00:30  955k\n",
      " 10 29.2M   10 3134k    0     0  1107k      0  0:00:27  0:00:02  0:00:25 1108k\n",
      " 13 29.2M   13 4062k    0     0  1061k      0  0:00:28  0:00:03  0:00:25 1062k\n",
      " 16 29.2M   16 4814k    0     0   997k      0  0:00:30  0:00:04  0:00:26  998k\n",
      " 18 29.2M   18 5406k    0     0   926k      0  0:00:32  0:00:05  0:00:27  986k\n",
      " 21 29.2M   21 6488k    0     0   949k      0  0:00:31  0:00:06  0:00:25  948k\n",
      " 26 29.2M   26 7838k    0     0   999k      0  0:00:29  0:00:07  0:00:22  937k\n",
      " 29 29.2M   29 8814k    0     0   998k      0  0:00:30  0:00:08  0:00:22  949k\n",
      " 33 29.2M   33 9966k    0     0  1012k      0  0:00:29  0:00:09  0:00:20 1026k\n",
      " 36 29.2M   36 10.6M    0     0  1005k      0  0:00:29  0:00:10  0:00:19 1097k\n",
      " 40 29.2M   40 11.7M    0     0  1009k      0  0:00:29  0:00:11  0:00:18 1089k\n",
      " 43 29.2M   43 12.7M    0     0  1019k      0  0:00:29  0:00:12  0:00:17 1050k\n",
      " 49 29.2M   49 14.3M    0     0  1064k      0  0:00:28  0:00:13  0:00:15 1182k\n",
      " 53 29.2M   53 15.6M    0     0  1083k      0  0:00:27  0:00:14  0:00:13 1223k\n",
      " 56 29.2M   56 16.5M    0     0  1071k      0  0:00:27  0:00:15  0:00:12 1213k\n",
      " 59 29.2M   59 17.3M    0     0  1056k      0  0:00:28  0:00:16  0:00:12 1170k\n",
      " 64 29.2M   64 18.7M    0     0  1071k      0  0:00:27  0:00:17  0:00:10 1204k\n",
      " 67 29.2M   67 19.8M    0     0  1077k      0  0:00:27  0:00:18  0:00:09 1112k\n",
      " 71 29.2M   71 20.9M    0     0  1082k      0  0:00:27  0:00:19  0:00:08 1081k\n",
      " 76 29.2M   76 22.4M    0     0  1104k      0  0:00:27  0:00:20  0:00:07 1210k\n",
      " 81 29.2M   81 23.7M    0     0  1112k      0  0:00:26  0:00:21  0:00:05 1302k\n",
      " 85 29.2M   85 25.0M    0     0  1121k      0  0:00:26  0:00:22  0:00:04 1302k\n",
      " 90 29.2M   90 26.5M    0     0  1140k      0  0:00:26  0:00:23  0:00:03 1376k\n",
      " 95 29.2M   95 27.8M    0     0  1147k      0  0:00:26  0:00:24  0:00:02 1402k\n",
      " 98 29.2M   98 28.8M    0     0  1143k      0  0:00:26  0:00:25  0:00:01 1308k\n",
      "100 29.2M  100 29.2M    0     0  1147k      0  0:00:26  0:00:26 --:--:-- 1327k\n"
     ]
    }
   ],
   "source": [
    "!curl -o pose_landmarker_heavy.task https://storage.googleapis.com/mediapipe-models/pose_landmarker/pose_landmarker_heavy/float16/1/pose_landmarker_heavy.task"
   ]
  },
  {
   "cell_type": "code",
   "execution_count": 57,
   "metadata": {},
   "outputs": [],
   "source": [
    "from mediapipe import solutions\n",
    "from mediapipe.framework.formats import landmark_pb2\n",
    "import numpy as np\n",
    "import cv2\n",
    "import mediapipe as mp\n",
    "from mediapipe.tasks import python\n",
    "from mediapipe.tasks.python import vision\n",
    "import json\n",
    "import csv\n",
    "import os"
   ]
  },
  {
   "cell_type": "code",
   "execution_count": 58,
   "metadata": {},
   "outputs": [],
   "source": [
    "def draw_landmarks_on_image(rgb_image, detection_result):\n",
    "    pose_landmarks_list = detection_result.pose_landmarks\n",
    "    annotated_image = np.copy(rgb_image)\n",
    "\n",
    "    for idx in range(len(pose_landmarks_list)):\n",
    "        pose_landmarks = pose_landmarks_list[idx]\n",
    "        pose_landmarks_proto = landmark_pb2.NormalizedLandmarkList()\n",
    "        pose_landmarks_proto.landmark.extend([\n",
    "            landmark_pb2.NormalizedLandmark(x=landmark.x, y=landmark.y, z=landmark.z) for landmark in pose_landmarks\n",
    "        ])\n",
    "        solutions.drawing_utils.draw_landmarks(\n",
    "            annotated_image,\n",
    "            pose_landmarks_proto,\n",
    "            solutions.pose.POSE_CONNECTIONS,\n",
    "            solutions.drawing_styles.get_default_pose_landmarks_style())\n",
    "    return annotated_image"
   ]
  },
  {
   "cell_type": "code",
   "execution_count": 59,
   "metadata": {},
   "outputs": [],
   "source": [
    "def extract_landmarks(detection_result):\n",
    "    landmarks = []\n",
    "    for pose_landmarks in detection_result.pose_landmarks:\n",
    "        for landmark in pose_landmarks:\n",
    "            landmarks.append({\n",
    "                'x': landmark.x,\n",
    "                'y': landmark.y,\n",
    "                'z': landmark.z,\n",
    "                'visibility': landmark.visibility\n",
    "            })\n",
    "    return landmarks"
   ]
  },
  {
   "cell_type": "code",
   "execution_count": 60,
   "metadata": {},
   "outputs": [],
   "source": [
    "base_options = python.BaseOptions(model_asset_path='pose_landmarker_heavy.task')\n",
    "options = vision.PoseLandmarkerOptions(\n",
    "    base_options=base_options,\n",
    "    output_segmentation_masks=True)\n",
    "detector = vision.PoseLandmarker.create_from_options(options)\n",
    "\n",
    "# Ruta base donde están las carpetas de datos\n",
    "base_path = 'datos_Mateo'\n",
    "\n",
    "# Iterar sobre cada categoría de movimiento en la carpeta base\n",
    "for category in os.listdir(base_path):\n",
    "    category_path = os.path.join(base_path, category)\n",
    "    \n",
    "    # Revisar que sea una carpeta\n",
    "    if not os.path.isdir(category_path):\n",
    "        continue\n",
    "    \n",
    "    # Crear carpeta de salida para JSON y CSV de la categoría si no existe\n",
    "    output_json_path = os.path.join(category_path, 'json')\n",
    "    output_csv_path = os.path.join(category_path, 'csv')\n",
    "    os.makedirs(output_json_path, exist_ok=True)\n",
    "    os.makedirs(output_csv_path, exist_ok=True)\n",
    "    \n",
    "    # Procesar cada video en la categoría\n",
    "    for video_file in os.listdir(category_path):\n",
    "        if not video_file.endswith('.mp4'):\n",
    "            continue\n",
    "        \n",
    "        video_path = os.path.join(category_path, video_file)\n",
    "        cap = cv2.VideoCapture(video_path)\n",
    "        all_landmarks = []\n",
    "\n",
    "        while cap.isOpened():\n",
    "            ret, frame = cap.read()\n",
    "            if not ret:\n",
    "                break\n",
    "\n",
    "            rgb_frame = cv2.cvtColor(frame, cv2.COLOR_BGR2RGB)\n",
    "            mp_image = mp.Image(image_format=mp.ImageFormat.SRGB, data=rgb_frame)\n",
    "            detection_result = detector.detect(mp_image)\n",
    "\n",
    "            landmarks = extract_landmarks(detection_result)\n",
    "            all_landmarks.append(landmarks)\n",
    "\n",
    "        cap.release()\n",
    "\n",
    "        # Guardar los datos en formato JSON\n",
    "        json_output_path = os.path.join(output_json_path, f\"{video_file.split('.')[0]}.json\")\n",
    "        with open(json_output_path, 'w') as json_file:\n",
    "            json.dump(all_landmarks, json_file, indent=4)\n",
    "\n",
    "        # Guardar los datos en formato CSV\n",
    "        csv_output_path = os.path.join(output_csv_path, f\"{video_file.split('.')[0]}.csv\")\n",
    "        csv_columns = ['frame', 'landmark_index', 'x', 'y', 'z', 'visibility']\n",
    "        with open(csv_output_path, 'w', newline='') as csvfile:\n",
    "            writer = csv.DictWriter(csvfile, fieldnames=csv_columns)\n",
    "            writer.writeheader()\n",
    "            for frame_index, frame_landmarks in enumerate(all_landmarks):\n",
    "                for landmark_index, landmark in enumerate(frame_landmarks):\n",
    "                    row = {\n",
    "                        'frame': frame_index,\n",
    "                        'landmark_index': landmark_index,\n",
    "                        'x': landmark['x'],\n",
    "                        'y': landmark['y'],\n",
    "                        'z': landmark['z'],\n",
    "                        'visibility': landmark['visibility']\n",
    "                    }\n",
    "                    writer.writerow(row)\n"
   ]
  },
  {
   "cell_type": "code",
   "execution_count": 48,
   "metadata": {},
   "outputs": [],
   "source": [
    "\n"
   ]
  },
  {
   "cell_type": "code",
   "execution_count": 49,
   "metadata": {},
   "outputs": [],
   "source": []
  }
 ],
 "metadata": {
  "kernelspec": {
   "display_name": "Python 3 (ipykernel)",
   "language": "python",
   "name": "python3"
  },
  "language_info": {
   "codemirror_mode": {
    "name": "ipython",
    "version": 3
   },
   "file_extension": ".py",
   "mimetype": "text/x-python",
   "name": "python",
   "nbconvert_exporter": "python",
   "pygments_lexer": "ipython3",
   "version": "3.12.7"
  }
 },
 "nbformat": 4,
 "nbformat_minor": 4
}
