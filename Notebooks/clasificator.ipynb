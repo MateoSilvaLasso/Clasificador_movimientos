{
 "cells": [
  {
   "cell_type": "code",
   "execution_count": 1,
   "metadata": {
    "colab": {
     "base_uri": "https://localhost:8080/"
    },
    "id": "i0L0ctzqVEXM",
    "outputId": "ee7eb0a5-1c5c-485f-a7e5-d3571796ce9c"
   },
   "outputs": [
    {
     "name": "stderr",
     "output_type": "stream",
     "text": [
      "WARNING: You are using pip version 20.2.3; however, version 24.3.1 is available.\n",
      "You should consider upgrading via the 'c:\\users\\mateo\\desktop\\semestre 7\\ia\\final_work\\env\\scripts\\python.exe -m pip install --upgrade pip' command.\n"
     ]
    }
   ],
   "source": [
    "!pip install -q mediapipe"
   ]
  },
  {
   "cell_type": "code",
   "execution_count": 2,
   "metadata": {
    "colab": {
     "base_uri": "https://localhost:8080/"
    },
    "id": "EOftePYpsd5_",
    "outputId": "a4464f24-ce4c-4445-cdce-13b2992ce22b"
   },
   "outputs": [
    {
     "name": "stderr",
     "output_type": "stream",
     "text": [
      "  % Total    % Received % Xferd  Average Speed   Time    Time     Time  Current\n",
      "                                 Dload  Upload   Total   Spent    Left  Speed\n",
      "\n",
      "  0     0    0     0    0     0      0      0 --:--:-- --:--:-- --:--:--     0\n",
      "  1 29.2M    1  447k    0     0   476k      0  0:01:02 --:--:--  0:01:02  478k\n",
      "100 29.2M  100 29.2M    0     0  16.3M      0  0:00:01  0:00:01 --:--:-- 16.4M\n"
     ]
    }
   ],
   "source": [
    "!curl -o pose_landmarker_heavy.task https://storage.googleapis.com/mediapipe-models/pose_landmarker/pose_landmarker_heavy/float16/1/pose_landmarker_heavy.task"
   ]
  },
  {
   "cell_type": "code",
   "execution_count": 32,
   "metadata": {},
   "outputs": [],
   "source": [
    "import cv2\n",
    "import mediapipe as mp\n",
    "import numpy as np\n",
    "import joblib\n",
    "import pandas as pd\n",
    "from scipy.ndimage import gaussian_filter1d\n",
    "from mediapipe.tasks.python.vision.pose_landmarker import PoseLandmarker\n",
    "from mediapipe.tasks import python as p\n",
    "from mediapipe.tasks.python import vision\n",
    "from sklearn.impute import SimpleImputer\n",
    "import streamlit as st"
   ]
  },
  {
   "cell_type": "code",
   "execution_count": 10,
   "metadata": {
    "id": "8aOzbIVuUmZR"
   },
   "outputs": [],
   "source": [
    "modelo = joblib.load(\"../models/modelo_clasificacion_actividades.pkl\")"
   ]
  },
  {
   "cell_type": "code",
   "execution_count": 11,
   "metadata": {
    "id": "OLtzIfbmUmZR",
    "scrolled": true
   },
   "outputs": [],
   "source": [
    "# Configuración del detector de MediaPipe\n",
    "BaseOptions = mp.tasks.BaseOptions\n",
    "PoseLandmarker = mp.tasks.vision.PoseLandmarker\n",
    "PoseLandmarkerOptions = mp.tasks.vision.PoseLandmarkerOptions\n",
    "VisionRunningMode = mp.tasks.vision.RunningMode"
   ]
  },
  {
   "cell_type": "code",
   "execution_count": 12,
   "metadata": {
    "id": "KUsruo7PUmZS"
   },
   "outputs": [],
   "source": [
    "def normalizar_coordenadas(df):\n",
    "    cadera_derecha = df[df['landmark_index'] == 23][['x', 'y', 'z']].mean()\n",
    "    cadera_izquierda = df[df['landmark_index'] == 24][['x', 'y', 'z']].mean()\n",
    "    cadera_centro = (cadera_derecha + cadera_izquierda) / 2\n",
    "\n",
    "    df['x'] -= cadera_centro['x']\n",
    "    df['y'] -= cadera_centro['y']\n",
    "    df['z'] -= cadera_centro['z']\n",
    "\n",
    "    hombro_derecho = df[df['landmark_index'] == 11][['x', 'y', 'z']].mean()\n",
    "    hombro_izquierdo = df[df['landmark_index'] == 12][['x', 'y', 'z']].mean()\n",
    "    torso_tamano = np.linalg.norm(hombro_derecho - hombro_izquierdo)\n",
    "\n",
    "    df['x'] /= torso_tamano\n",
    "    df['y'] /= torso_tamano\n",
    "    df['z'] /= torso_tamano\n",
    "\n",
    "    return df"
   ]
  },
  {
   "cell_type": "code",
   "execution_count": 13,
   "metadata": {
    "id": "t4ywdf_DUmZT"
   },
   "outputs": [],
   "source": [
    "def filtrar_datos(df):\n",
    "    # Convertir las columnas x, y, z a tipo float\n",
    "    df['x'] = df['x'].astype(float)\n",
    "    df['y'] = df['y'].astype(float)\n",
    "    df['z'] = df['z'].astype(float)\n",
    "\n",
    "    # Aplicar el filtro gaussiano\n",
    "    df['x'] = gaussian_filter1d(df['x'], sigma=2)\n",
    "    df['y'] = gaussian_filter1d(df['y'], sigma=2)\n",
    "    df['z'] = gaussian_filter1d(df['z'], sigma=2)\n",
    "\n",
    "    return df\n"
   ]
  },
  {
   "cell_type": "code",
   "execution_count": 14,
   "metadata": {
    "id": "96SpUN6JUmZT"
   },
   "outputs": [],
   "source": [
    "def calcular_angulo(p1, p2, p3):\n",
    "    vector1 = p1 - p2\n",
    "    vector2 = p3 - p2\n",
    "    cos_theta = np.dot(vector1, vector2) / (np.linalg.norm(vector1) * np.linalg.norm(vector2))\n",
    "    angulo = np.arccos(np.clip(cos_theta, -1.0, 1.0))\n",
    "    return np.degrees(angulo)"
   ]
  },
  {
   "cell_type": "code",
   "execution_count": 16,
   "metadata": {
    "id": "eNXdEyrvUmZT"
   },
   "outputs": [],
   "source": [
    "def extract_landmarks_to_dataframe(detection_result):\n",
    "    # Crear una lista para almacenar las coordenadas de cada landmark\n",
    "    landmarks = []\n",
    "    for pose_landmark in detection_result.pose_landmarks:\n",
    "        for landmark in pose_landmark:\n",
    "            landmarks.append([landmark.x, landmark.y, landmark.z, landmark.visibility])\n",
    "\n",
    "    # Convertir la lista a un DataFrame de pandas\n",
    "    df_landmarks = pd.DataFrame(landmarks, columns=['x', 'y', 'z', 'visibility'])\n",
    "\n",
    "    # Agregar una columna de índice para los landmarks\n",
    "    df_landmarks['landmark_index'] = df_landmarks.index\n",
    "    return df_landmarks\n",
    "\n"
   ]
  },
  {
   "cell_type": "code",
   "execution_count": 17,
   "metadata": {
    "id": "VZM-QI7SUmZU"
   },
   "outputs": [],
   "source": [
    "def generar_caracteristicas(df):\n",
    "    articulaciones_clave = [11, 12, 13, 14, 15, 16, 23, 24]\n",
    "\n",
    "    velocidades = []\n",
    "    angulos_codo_derecho = []\n",
    "    angulos_codo_izquierdo = []\n",
    "    angulos_tronco = []\n",
    "\n",
    "    for articulacion in articulaciones_clave:\n",
    "        actual = df[df['landmark_index'] == articulacion]\n",
    "        if len(actual) > 1:\n",
    "            vel_x = actual['x'].iloc[-1] - actual['x'].iloc[-2]\n",
    "            vel_y = actual['y'].iloc[-1] - actual['y'].iloc[-2]\n",
    "            vel_z = actual['z'].iloc[-1] - actual['z'].iloc[-2]\n",
    "            velocidad = np.sqrt(vel_x**2 + vel_y**2 + vel_z**2)\n",
    "            velocidades.append(velocidad)\n",
    "\n",
    "    hombro_derecho = df[df['landmark_index'] == 11][['x', 'y', 'z']].values\n",
    "    codo_derecho = df[df['landmark_index'] == 13][['x', 'y', 'z']].values\n",
    "    muneca_derecha = df[df['landmark_index'] == 15][['x', 'y', 'z']].values\n",
    "\n",
    "    if hombro_derecho.size > 0 and codo_derecho.size > 0 and muneca_derecha.size > 0:\n",
    "        angulos_codo_derecho.append(calcular_angulo(hombro_derecho[0], codo_derecho[0], muneca_derecha[0]))\n",
    "\n",
    "    hombro_izquierdo = df[df['landmark_index'] == 12][['x', 'y', 'z']].values\n",
    "    codo_izquierdo = df[df['landmark_index'] == 14][['x', 'y', 'z']].values\n",
    "    muneca_izquierda = df[df['landmark_index'] == 16][['x', 'y', 'z']].values\n",
    "\n",
    "    if hombro_izquierdo.size > 0 and codo_izquierdo.size > 0 and muneca_izquierda.size > 0:\n",
    "        angulos_codo_izquierdo.append(calcular_angulo(hombro_izquierdo[0], codo_izquierdo[0], muneca_izquierda[0]))\n",
    "\n",
    "    if hombro_derecho.size > 0 and hombro_izquierdo.size > 0:\n",
    "        cadera_centro = (df[df['landmark_index'] == 23][['x', 'y', 'z']].values +\n",
    "                         df[df['landmark_index'] == 24][['x', 'y', 'z']].values) / 2\n",
    "        angulos_tronco.append(calcular_angulo(hombro_derecho[0], cadera_centro[0], hombro_izquierdo[0]))\n",
    "\n",
    "    caracteristicas =  np.array([\n",
    "        np.mean(velocidades), np.std(velocidades),\n",
    "        np.mean(angulos_codo_derecho), np.std(angulos_codo_derecho),\n",
    "        np.mean(angulos_codo_izquierdo), np.std(angulos_codo_izquierdo),\n",
    "        np.mean(angulos_tronco), np.std(angulos_tronco)\n",
    "    ])\n",
    "\n",
    "    print(caracteristicas.shape)\n",
    "\n",
    "    return caracteristicas"
   ]
  },
  {
   "cell_type": "code",
   "execution_count": null,
   "metadata": {
    "colab": {
     "base_uri": "https://localhost:8080/"
    },
    "id": "h-t0jLP5UmZU",
    "outputId": "c6ea01ba-5782-488c-9c07-8a46a8d75abd"
   },
   "outputs": [
    {
     "name": "stderr",
     "output_type": "stream",
     "text": [
      "2024-11-24 20:12:50.366 WARNING streamlit.runtime.scriptrunner_utils.script_run_context: Thread 'MainThread': missing ScriptRunContext! This warning can be ignored when running in bare mode.\n",
      "2024-11-24 20:12:50.376 WARNING streamlit.runtime.scriptrunner_utils.script_run_context: Thread 'MainThread': missing ScriptRunContext! This warning can be ignored when running in bare mode.\n",
      "2024-11-24 20:12:50.774 \n",
      "  \u001b[33m\u001b[1mWarning:\u001b[0m to view this Streamlit app on a browser, run it with the following\n",
      "  command:\n",
      "\n",
      "    streamlit run c:\\Users\\mateo\\Desktop\\Semestre 7\\IA\\Final_work\\env\\lib\\site-packages\\ipykernel_launcher.py [ARGUMENTS]\n",
      "2024-11-24 20:12:50.775 Thread 'MainThread': missing ScriptRunContext! This warning can be ignored when running in bare mode.\n",
      "2024-11-24 20:12:50.776 Thread 'MainThread': missing ScriptRunContext! This warning can be ignored when running in bare mode.\n",
      "2024-11-24 20:12:50.776 Thread 'MainThread': missing ScriptRunContext! This warning can be ignored when running in bare mode.\n",
      "2024-11-24 20:12:50.779 Thread 'MainThread': missing ScriptRunContext! This warning can be ignored when running in bare mode.\n",
      "2024-11-24 20:12:50.779 Thread 'MainThread': missing ScriptRunContext! This warning can be ignored when running in bare mode.\n",
      "2024-11-24 20:12:50.780 Thread 'MainThread': missing ScriptRunContext! This warning can be ignored when running in bare mode.\n",
      "2024-11-24 20:12:50.780 Thread 'MainThread': missing ScriptRunContext! This warning can be ignored when running in bare mode.\n",
      "2024-11-24 20:12:50.781 Thread 'MainThread': missing ScriptRunContext! This warning can be ignored when running in bare mode.\n",
      "2024-11-24 20:12:50.785 Thread 'MainThread': missing ScriptRunContext! This warning can be ignored when running in bare mode.\n",
      "2024-11-24 20:12:50.787 Session state does not function when running a script without `streamlit run`\n",
      "2024-11-24 20:12:50.788 Thread 'MainThread': missing ScriptRunContext! This warning can be ignored when running in bare mode.\n",
      "2024-11-24 20:12:50.789 Thread 'MainThread': missing ScriptRunContext! This warning can be ignored when running in bare mode.\n",
      "2024-11-24 20:12:50.789 Thread 'MainThread': missing ScriptRunContext! This warning can be ignored when running in bare mode.\n",
      "2024-11-24 20:12:50.790 Thread 'MainThread': missing ScriptRunContext! This warning can be ignored when running in bare mode.\n",
      "2024-11-24 20:12:50.793 Thread 'MainThread': missing ScriptRunContext! This warning can be ignored when running in bare mode.\n",
      "2024-11-24 20:12:50.837 Thread 'MainThread': missing ScriptRunContext! This warning can be ignored when running in bare mode.\n",
      "2024-11-24 20:12:50.839 Thread 'MainThread': missing ScriptRunContext! This warning can be ignored when running in bare mode.\n",
      "2024-11-24 20:12:50.840 Thread 'MainThread': missing ScriptRunContext! This warning can be ignored when running in bare mode.\n",
      "2024-11-24 20:12:50.841 Thread 'MainThread': missing ScriptRunContext! This warning can be ignored when running in bare mode.\n",
      "2024-11-24 20:12:50.842 Thread 'MainThread': missing ScriptRunContext! This warning can be ignored when running in bare mode.\n",
      "2024-11-24 20:12:50.843 Thread 'MainThread': missing ScriptRunContext! This warning can be ignored when running in bare mode.\n",
      "2024-11-24 20:12:50.843 Thread 'MainThread': missing ScriptRunContext! This warning can be ignored when running in bare mode.\n",
      "2024-11-24 20:12:50.844 Thread 'MainThread': missing ScriptRunContext! This warning can be ignored when running in bare mode.\n",
      "2024-11-24 20:12:50.845 Thread 'MainThread': missing ScriptRunContext! This warning can be ignored when running in bare mode.\n",
      "2024-11-24 20:12:50.846 Thread 'MainThread': missing ScriptRunContext! This warning can be ignored when running in bare mode.\n",
      "2024-11-24 20:12:50.847 Thread 'MainThread': missing ScriptRunContext! This warning can be ignored when running in bare mode.\n",
      "2024-11-24 20:12:50.847 Thread 'MainThread': missing ScriptRunContext! This warning can be ignored when running in bare mode.\n",
      "2024-11-24 20:12:50.847 Thread 'MainThread': missing ScriptRunContext! This warning can be ignored when running in bare mode.\n",
      "2024-11-24 20:12:50.847 Thread 'MainThread': missing ScriptRunContext! This warning can be ignored when running in bare mode.\n",
      "2024-11-24 20:12:50.847 Thread 'MainThread': missing ScriptRunContext! This warning can be ignored when running in bare mode.\n",
      "2024-11-24 20:12:50.847 Thread 'MainThread': missing ScriptRunContext! This warning can be ignored when running in bare mode.\n",
      "2024-11-24 20:12:50.847 Thread 'MainThread': missing ScriptRunContext! This warning can be ignored when running in bare mode.\n",
      "2024-11-24 20:12:50.851 Thread 'MainThread': missing ScriptRunContext! This warning can be ignored when running in bare mode.\n",
      "2024-11-24 20:12:50.852 Thread 'MainThread': missing ScriptRunContext! This warning can be ignored when running in bare mode.\n",
      "2024-11-24 20:12:50.852 Thread 'MainThread': missing ScriptRunContext! This warning can be ignored when running in bare mode.\n",
      "2024-11-24 20:12:50.853 Thread 'MainThread': missing ScriptRunContext! This warning can be ignored when running in bare mode.\n",
      "2024-11-24 20:12:50.854 Thread 'MainThread': missing ScriptRunContext! This warning can be ignored when running in bare mode.\n",
      "2024-11-24 20:12:50.855 Thread 'MainThread': missing ScriptRunContext! This warning can be ignored when running in bare mode.\n",
      "2024-11-24 20:12:50.855 Thread 'MainThread': missing ScriptRunContext! This warning can be ignored when running in bare mode.\n",
      "2024-11-24 20:12:50.855 Thread 'MainThread': missing ScriptRunContext! This warning can be ignored when running in bare mode.\n"
     ]
    }
   ],
   "source": [
    "# Inicializar el detector\n",
    "base_options = p.BaseOptions(model_asset_path='../posemodels/pose_landmarker_heavy.task')\n",
    "options = vision.PoseLandmarkerOptions(\n",
    "    base_options=base_options,\n",
    "    output_segmentation_masks=True)\n",
    "detector = vision.PoseLandmarker.create_from_options(options)\n",
    "\n",
    "# Configuración de MediaPipe (si es necesario)\n",
    "mp_drawing = mp.solutions.drawing_utils\n",
    "mp_pose = mp.solutions.pose\n",
    "\n",
    "cap = cv2.VideoCapture(0)\n",
    "\n",
    "while cap.isOpened():\n",
    "    ret, frame = cap.read()\n",
    "    if not ret:\n",
    "        break\n",
    "\n",
    "    # Procesamiento de la imagen para obtener landmarks\n",
    "    rgb_frame = cv2.cvtColor(frame, cv2.COLOR_BGR2RGB)\n",
    "    mp_image = mp.Image(image_format=mp.ImageFormat.SRGB, data=rgb_frame)\n",
    "    detection_result = detector.detect(mp_image)\n",
    "\n",
    "    # Verificar si hay puntos clave detectados\n",
    "    if detection_result.pose_landmarks:\n",
    "        # Iterar sobre cada pose_landmark (que es un conjunto de puntos clave)\n",
    "        for pose_landmark in detection_result.pose_landmarks:\n",
    "            for point in pose_landmark:  # 'pose_landmark' ahora es directamente el punto clave\n",
    "                x = int(point.x * frame.shape[1])  # Convertir coordenada x al tamaño de la imagen\n",
    "                y = int(point.y * frame.shape[0])  # Convertir coordenada y al tamaño de la imagen\n",
    "                # Dibujar los puntos en la imagen (rojo, tamaño 5)\n",
    "                cv2.circle(frame, (x, y), 5, (0, 0, 255), -1)\n",
    "\n",
    "        \n",
    "\n",
    "    # Convertir los resultados de los landmarks en un DataFrame para su procesamiento\n",
    "    df_landmarks = extract_landmarks_to_dataframe(detection_result)\n",
    "    df_landmarks = normalizar_coordenadas(df_landmarks)\n",
    "    df_landmarks = filtrar_datos(df_landmarks)\n",
    "    df_landmarks.fillna(0, inplace=True)\n",
    "\n",
    "    # Generar las características para la predicción\n",
    "    caracteristicas = generar_caracteristicas(df_landmarks)\n",
    "\n",
    "    imputer = SimpleImputer(strategy='constant', fill_value=0)\n",
    "    caracteristicas = imputer.fit_transform([caracteristicas])\n",
    "    \n",
    "    \n",
    "    prediccion = modelo.predict(caracteristicas)[0]\n",
    "\n",
    "    # Mostrar la predicción sobre la imagen\n",
    "    cv2.putText(frame, f'Prediccion: {prediccion}', (10, 30), cv2.FONT_HERSHEY_SIMPLEX, 1, (0, 255, 0), 2)\n",
    "\n",
    "    # Mostrar la imagen con los puntos y la predicción\n",
    "    cv2.imshow('Prediccion en tiempo real', frame)\n",
    "\n",
    "    # Salir si se presiona la tecla 'q'\n",
    "    if cv2.waitKey(1) & 0xFF == ord('q'):\n",
    "        break\n",
    "\n",
    "cap.release()\n",
    "cv2.destroyAllWindows()\n"
   ]
  },
  {
   "cell_type": "code",
   "execution_count": 26,
   "metadata": {},
   "outputs": [],
   "source": [
    "cap.release()\n",
    "cv2.destroyAllWindows()"
   ]
  }
 ],
 "metadata": {
  "colab": {
   "provenance": []
  },
  "kernelspec": {
   "display_name": "env",
   "language": "python",
   "name": "python3"
  },
  "language_info": {
   "codemirror_mode": {
    "name": "ipython",
    "version": 3
   },
   "file_extension": ".py",
   "mimetype": "text/x-python",
   "name": "python",
   "nbconvert_exporter": "python",
   "pygments_lexer": "ipython3",
   "version": "3.9.0"
  }
 },
 "nbformat": 4,
 "nbformat_minor": 4
}
