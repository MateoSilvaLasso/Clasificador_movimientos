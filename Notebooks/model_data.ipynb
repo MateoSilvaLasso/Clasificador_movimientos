{
 "cells": [
  {
   "cell_type": "code",
   "execution_count": 109,
   "metadata": {},
   "outputs": [],
   "source": [
    "import pandas as pd\n",
    "import numpy as np\n",
    "import glob\n",
    "import os\n",
    "from scipy.ndimage import gaussian_filter1d\n",
    "from sklearn.model_selection import train_test_split, GridSearchCV, StratifiedKFold\n",
    "from sklearn.ensemble import RandomForestClassifier\n",
    "from sklearn.preprocessing import LabelEncoder\n",
    "from sklearn.metrics import classification_report, accuracy_score, f1_score\n",
    "import xgboost as xgb\n",
    "from sklearn.svm import SVC\n",
    "import joblib\n",
    "from sklearn.decomposition import PCA\n",
    "import matplotlib.pyplot as plt"
   ]
  },
  {
   "cell_type": "code",
   "execution_count": 113,
   "metadata": {},
   "outputs": [],
   "source": [
    "def cargar_datos(directorio):\n",
    "    data = []\n",
    "    etiquetas = []\n",
    "    for carpeta in os.listdir(directorio):\n",
    "        subdirectorio = os.path.join(directorio, carpeta, 'csv')\n",
    "        \n",
    "        for archivo in glob.glob(os.path.join(subdirectorio, '*.csv')):\n",
    "            df = pd.read_csv(archivo)\n",
    "            data.append(df)\n",
    "            etiquetas.append(carpeta)\n",
    "    return data, etiquetas"
   ]
  },
  {
   "cell_type": "code",
   "execution_count": 115,
   "metadata": {},
   "outputs": [],
   "source": [
    "def normalizar_coordenadas(df):\n",
    "    # Obtener las coordenadas promedio de las caderas\n",
    "    cadera_derecha = df[df['landmark_index'] == 23][['x', 'y', 'z']].mean()\n",
    "    cadera_izquierda = df[df['landmark_index'] == 24][['x', 'y', 'z']].mean()\n",
    "    cadera_centro = (cadera_derecha + cadera_izquierda) / 2\n",
    "    \n",
    "    # Normalizar restando las coordenadas de la cadera central\n",
    "    df['x'] -= cadera_centro['x']\n",
    "    df['y'] -= cadera_centro['y']\n",
    "    df['z'] -= cadera_centro['z']\n",
    "    \n",
    "    # Normalización por el tamaño del torso (distancia entre hombros 11 y 12)\n",
    "    hombro_derecho = df[df['landmark_index'] == 11][['x', 'y', 'z']].mean()\n",
    "    hombro_izquierdo = df[df['landmark_index'] == 12][['x', 'y', 'z']].mean()\n",
    "    torso_tamano = np.linalg.norm(hombro_derecho - hombro_izquierdo)\n",
    "    \n",
    "    df['x'] /= torso_tamano\n",
    "    df['y'] /= torso_tamano\n",
    "    df['z'] /= torso_tamano\n",
    "    \n",
    "    return df"
   ]
  },
  {
   "cell_type": "code",
   "execution_count": 117,
   "metadata": {},
   "outputs": [],
   "source": [
    "# Filtrar las coordenadas\n",
    "def filtrar_datos(df):\n",
    "    df['x'] = gaussian_filter1d(df['x'], sigma=2)\n",
    "    df['y'] = gaussian_filter1d(df['y'], sigma=2)\n",
    "    df['z'] = gaussian_filter1d(df['z'], sigma=2)\n",
    "    return df"
   ]
  },
  {
   "cell_type": "code",
   "execution_count": 119,
   "metadata": {},
   "outputs": [],
   "source": [
    "# Calcular el ángulo entre tres puntos\n",
    "def calcular_angulo(p1, p2, p3):\n",
    "    vector1 = p1 - p2\n",
    "    vector2 = p3 - p2\n",
    "    cos_theta = np.dot(vector1, vector2) / (np.linalg.norm(vector1) * np.linalg.norm(vector2))\n",
    "    angulo = np.arccos(np.clip(cos_theta, -1.0, 1.0))\n",
    "    return np.degrees(angulo)"
   ]
  },
  {
   "cell_type": "code",
   "execution_count": 121,
   "metadata": {},
   "outputs": [],
   "source": [
    "# Generación de características agregadas\n",
    "def generar_caracteristicas(df):\n",
    "    # Articulaciones clave: hombros, codos, y caderas\n",
    "    articulaciones_clave = [11, 12, 13, 14, 15, 16, 23, 24]\n",
    "    \n",
    "    velocidades = []\n",
    "    angulos_codo_derecho = []\n",
    "    angulos_codo_izquierdo = []\n",
    "    angulos_tronco = []\n",
    "    \n",
    "    for i in range(1, len(df)):\n",
    "        fila_actual = df[df['frame'] == i]\n",
    "        fila_anterior = df[df['frame'] == i - 1]\n",
    "        \n",
    "        # Calcular velocidades\n",
    "        for articulacion in articulaciones_clave:\n",
    "            actual = fila_actual[fila_actual['landmark_index'] == articulacion]\n",
    "            anterior = fila_anterior[fila_anterior['landmark_index'] == articulacion]\n",
    "            \n",
    "            if not actual.empty and not anterior.empty:\n",
    "                vel_x = actual['x'].values[0] - anterior['x'].values[0]\n",
    "                vel_y = actual['y'].values[0] - anterior['y'].values[0]\n",
    "                vel_z = actual['z'].values[0] - anterior['z'].values[0]\n",
    "                velocidad = np.sqrt(vel_x**2 + vel_y**2 + vel_z**2)\n",
    "                velocidades.append(velocidad)\n",
    "\n",
    "        # Calcular ángulos\n",
    "        hombro_derecho = fila_actual[fila_actual['landmark_index'] == 11][['x', 'y', 'z']].values\n",
    "        codo_derecho = fila_actual[fila_actual['landmark_index'] == 13][['x', 'y', 'z']].values\n",
    "        muneca_derecha = fila_actual[fila_actual['landmark_index'] == 15][['x', 'y', 'z']].values\n",
    "        \n",
    "        if hombro_derecho.size > 0 and codo_derecho.size > 0 and muneca_derecha.size > 0:\n",
    "            angulo_codo_derecho = calcular_angulo(hombro_derecho[0], codo_derecho[0], muneca_derecha[0])\n",
    "            angulos_codo_derecho.append(angulo_codo_derecho)\n",
    "        \n",
    "        hombro_izquierdo = fila_actual[fila_actual['landmark_index'] == 12][['x', 'y', 'z']].values\n",
    "        codo_izquierdo = fila_actual[fila_actual['landmark_index'] == 14][['x', 'y', 'z']].values\n",
    "        muneca_izquierda = fila_actual[fila_actual['landmark_index'] == 16][['x', 'y', 'z']].values\n",
    "        \n",
    "        if hombro_izquierdo.size > 0 and codo_izquierdo.size > 0 and muneca_izquierda.size > 0:\n",
    "            angulo_codo_izquierdo = calcular_angulo(hombro_izquierdo[0], codo_izquierdo[0], muneca_izquierda[0])\n",
    "            angulos_codo_izquierdo.append(angulo_codo_izquierdo)\n",
    "        \n",
    "        cadera_centro = ((fila_actual[fila_actual['landmark_index'] == 23][['x', 'y', 'z']].values +\n",
    "                          fila_actual[fila_actual['landmark_index'] == 24][['x', 'y', 'z']].values) / 2)\n",
    "        \n",
    "        if hombro_derecho.size > 0 and cadera_centro.size > 0 and hombro_izquierdo.size > 0:\n",
    "            angulo_tronco = calcular_angulo(hombro_derecho[0], cadera_centro[0], hombro_izquierdo[0])\n",
    "            angulos_tronco.append(angulo_tronco)\n",
    "    \n",
    "    # Calcular estadísticas de cada característica\n",
    "    caracteristicas = [\n",
    "        np.mean(velocidades), np.std(velocidades),\n",
    "        np.mean(angulos_codo_derecho), np.std(angulos_codo_derecho),\n",
    "        np.mean(angulos_codo_izquierdo), np.std(angulos_codo_izquierdo),\n",
    "        np.mean(angulos_tronco), np.std(angulos_tronco)\n",
    "    ]\n",
    "    \n",
    "    return caracteristicas"
   ]
  },
  {
   "cell_type": "code",
   "execution_count": 123,
   "metadata": {},
   "outputs": [],
   "source": [
    "def preprocesar_y_extraer(data):\n",
    "    datos_procesados = []\n",
    "    for df in data:\n",
    "        df = normalizar_coordenadas(df)\n",
    "        df = filtrar_datos(df)\n",
    "        caracteristicas = generar_caracteristicas(df)\n",
    "        datos_procesados.append(caracteristicas)\n",
    "    return datos_procesados"
   ]
  },
  {
   "cell_type": "code",
   "execution_count": 127,
   "metadata": {},
   "outputs": [],
   "source": [
    "def generar_graficos(nombres, accuracy_list, f1_list):\n",
    "    \"\"\"\n",
    "    Genera gráficos de barras para comparar las métricas de los modelos.\n",
    "\n",
    "    Parámetros:\n",
    "        nombres (list): Lista de nombres de los modelos.\n",
    "        accuracy_list (list): Lista de valores de Accuracy para los modelos.\n",
    "        f1_list (list): Lista de valores de F1-score para los modelos.\n",
    "    \"\"\"\n",
    "    x = range(len(nombres))  # Posiciones para las barras\n",
    "\n",
    "    # Configuración del tamaño del gráfico\n",
    "    plt.figure(figsize=(12, 6))\n",
    "\n",
    "    # Gráfico de Accuracy\n",
    "    plt.bar(x, accuracy_list, width=0.4, label='Accuracy', alpha=0.7, color='blue', align='center')\n",
    "    \n",
    "    # Gráfico de F1-score\n",
    "    plt.bar(x, f1_list, width=0.4, label='F1-score', alpha=0.7, color='green', align='edge')\n",
    "\n",
    "    # Etiquetas y título\n",
    "    plt.xlabel('Modelos')\n",
    "    plt.ylabel('Métrica')\n",
    "    plt.title('Comparación de Accuracy y F1-score entre modelos')\n",
    "    plt.xticks(x, nombres, rotation=45, ha='right')  # Etiquetas de los modelos en el eje x\n",
    "    plt.legend()  # Leyenda\n",
    "    plt.tight_layout()  # Ajuste para evitar solapamiento\n",
    "\n",
    "    # Mostrar el gráfico\n",
    "    plt.show()"
   ]
  },
  {
   "cell_type": "code",
   "execution_count": 129,
   "metadata": {},
   "outputs": [],
   "source": [
    "# Entrenar el modelo\n",
    "def entrenar_modelo_random_forest(datos_procesados, etiquetas):\n",
    "    \n",
    "    X_train, X_test, y_train, y_test = train_test_split(\n",
    "        datos_procesados, etiquetas, test_size=0.2, random_state=42,\n",
    "    )\n",
    "    \n",
    "    param_grid = {\n",
    "        'n_estimators': [100, 200, 250],\n",
    "        'max_depth': [100, 200, 300],\n",
    "        'min_samples_split': [2, 5, 10],\n",
    "        'min_samples_leaf': [1, 2, 4],\n",
    "        'max_features': ['sqrt', 'log2', None]\n",
    "    }\n",
    "    \n",
    "    skf = StratifiedKFold(n_splits=5, shuffle=True, random_state=42)\n",
    "    grid_search = GridSearchCV(estimator=RandomForestClassifier(random_state=42, class_weight='balanced'), param_grid=param_grid, cv=skf, n_jobs=-1, verbose=2)\n",
    "    grid_search.fit(X_train, y_train)\n",
    "    best_model = grid_search.best_estimator_\n",
    "\n",
    "    y_pred = best_model.predict(X_test)\n",
    "    print(classification_report(y_test, y_pred))\n",
    "    print(grid_search.best_params_)\n",
    "    return best_model"
   ]
  },
  {
   "cell_type": "code",
   "execution_count": 131,
   "metadata": {},
   "outputs": [],
   "source": [
    "def entrenar_modelo_xgboost(datos_procesados, etiquetas):\n",
    "    label_encoder = LabelEncoder()\n",
    "    etiquetas_numericas = label_encoder.fit_transform(etiquetas)\n",
    "\n",
    "    # Dividir datos en entrenamiento y prueba\n",
    "    X_train, X_test, y_train, y_test = train_test_split(\n",
    "        datos_procesados, etiquetas_numericas, test_size=0.2, random_state=42,\n",
    "    )\n",
    "\n",
    "    # Definir el espacio de búsqueda de hiperparámetros para XGBoost\n",
    "    param_grid = {\n",
    "        'n_estimators': [50, 100, 200],  # Número de árboles\n",
    "        'max_depth': [3, 5, 10],  # Profundidad máxima de los árboles\n",
    "        'learning_rate': [0.01, 0.1, 0.2],  # Tasa de aprendizaje\n",
    "        'subsample': [0.6, 0.8, 1.0],  # Fracción de datos utilizada por cada árbol\n",
    "        'colsample_bytree': [0.6, 0.8, 1.0],  # Fracción de características utilizadas por árbol\n",
    "        'gamma': [0, 1, 5],  # Regularización de complejidad\n",
    "        'scale_pos_weight': [1, 2, 5]  # Peso para balancear clases desbalanceadas\n",
    "    }\n",
    "\n",
    "    # Configurar validación cruzada estratificada\n",
    "    skf = StratifiedKFold(n_splits=5, shuffle=True, random_state=42)\n",
    "\n",
    "    # Configurar GridSearchCV con el clasificador XGBoost\n",
    "    grid_search = GridSearchCV(\n",
    "        estimator=xgb.XGBClassifier(\n",
    "            objective='multi:softmax',  # Clasificación multiclase\n",
    "            num_class=len(set(etiquetas_numericas)),  # Número de clases\n",
    "            random_state=42,\n",
    "            use_label_encoder=False  # Deshabilitar el uso del label encoder interno en XGBoost\n",
    "        ),\n",
    "        param_grid=param_grid,\n",
    "        cv=skf,\n",
    "        n_jobs=-1,\n",
    "        verbose=2\n",
    "    )\n",
    "\n",
    "    # Entrenar el modelo con GridSearch\n",
    "    grid_search.fit(X_train, y_train)\n",
    "\n",
    "    # Obtener el mejor modelo\n",
    "    best_model = grid_search.best_estimator_\n",
    "\n",
    "    # Evaluar el modelo en el conjunto de prueba\n",
    "    y_pred = best_model.predict(X_test)\n",
    "\n",
    "    # Convertir etiquetas numéricas de vuelta a texto para el reporte\n",
    "    y_test_text = label_encoder.inverse_transform(y_test)\n",
    "    y_pred_text = label_encoder.inverse_transform(y_pred)\n",
    "\n",
    "    print(classification_report(y_test_text, y_pred_text))\n",
    "    print(\"Mejores hiperparámetros encontrados:\", grid_search.best_params_)\n",
    "\n",
    "    return best_model"
   ]
  },
  {
   "cell_type": "code",
   "execution_count": 133,
   "metadata": {},
   "outputs": [],
   "source": [
    "def entrenar_modelo_svm(datos_procesados, etiquetas):\n",
    "    \n",
    "    # Dividir los datos en conjuntos de entrenamiento y prueba\n",
    "    X_train, X_test, y_train, y_test = train_test_split(\n",
    "        datos_procesados, etiquetas, test_size=0.2, random_state=42\n",
    "    )\n",
    "    \n",
    "    # Definir el rango de hiperparámetros para GridSearch\n",
    "    param_grid = {\n",
    "        'C': [0.1, 1, 10, 100],  # Regularización\n",
    "        'kernel': ['linear', 'rbf', 'poly', 'sigmoid'],  # Tipos de kernel\n",
    "        'gamma': ['scale', 'auto'],  # Coeficiente del kernel\n",
    "        'degree': [2, 3, 4],  # Grado del polinomio (solo relevante para el kernel 'poly')\n",
    "    }\n",
    "    \n",
    "    # Configurar la validación cruzada estratificada\n",
    "    skf = StratifiedKFold(n_splits=5, shuffle=True, random_state=42)\n",
    "    \n",
    "    # Crear el objeto GridSearch con SVC\n",
    "    grid_search = GridSearchCV(\n",
    "        estimator=SVC(class_weight='balanced', probability=True, random_state=42),\n",
    "        param_grid=param_grid,\n",
    "        cv=skf,\n",
    "        n_jobs=-1,\n",
    "        verbose=2\n",
    "    )\n",
    "    \n",
    "    # Ajustar el modelo con los datos de entrenamiento\n",
    "    grid_search.fit(X_train, y_train)\n",
    "    best_model = grid_search.best_estimator_\n",
    "    \n",
    "    # Evaluar el modelo con los datos de prueba\n",
    "    y_pred = best_model.predict(X_test)\n",
    "    print(classification_report(y_test, y_pred))\n",
    "    print(\"Mejores hiperparámetros:\", grid_search.best_params_)\n",
    "    \n",
    "    return best_model"
   ]
  },
  {
   "cell_type": "code",
   "execution_count": 135,
   "metadata": {},
   "outputs": [],
   "source": [
    "# Guardar el modelo entrenado\n",
    "def guardar_modelo(modelo, nombre_archivo):\n",
    "    joblib.dump(modelo, nombre_archivo)"
   ]
  },
  {
   "cell_type": "code",
   "execution_count": null,
   "metadata": {},
   "outputs": [],
   "source": [
    "directorio_datos = '../data/processed'\n",
    "data, etiquetas = cargar_datos(directorio_datos)\n",
    "datos_procesados = preprocesar_y_extraer(data)"
   ]
  },
  {
   "cell_type": "code",
   "execution_count": 61,
   "metadata": {
    "scrolled": true
   },
   "outputs": [
    {
     "name": "stdout",
     "output_type": "stream",
     "text": [
      "Fitting 5 folds for each of 243 candidates, totalling 1215 fits\n",
      "                       precision    recall  f1-score   support\n",
      "\n",
      "             Sentarse       0.60      0.75      0.67         4\n",
      "  caminar hacia atras       0.80      0.80      0.80         5\n",
      "caminar hacia delante       1.00      1.00      1.00         6\n",
      "                girar       1.00      1.00      1.00         1\n",
      "              pararse       1.00      0.75      0.86         4\n",
      "\n",
      "             accuracy                           0.85        20\n",
      "            macro avg       0.88      0.86      0.86        20\n",
      "         weighted avg       0.87      0.85      0.85        20\n",
      "\n",
      "{'max_depth': 100, 'max_features': 'sqrt', 'min_samples_leaf': 1, 'min_samples_split': 2, 'n_estimators': 100}\n"
     ]
    }
   ],
   "source": [
    "modelo_random_forest = entrenar_modelo_random_forest(datos_procesados, etiquetas)"
   ]
  },
  {
   "cell_type": "code",
   "execution_count": 67,
   "metadata": {},
   "outputs": [
    {
     "name": "stdout",
     "output_type": "stream",
     "text": [
      "Fitting 5 folds for each of 2187 candidates, totalling 10935 fits\n"
     ]
    },
    {
     "name": "stderr",
     "output_type": "stream",
     "text": [
      "C:\\Users\\mateo\\anaconda3\\Lib\\site-packages\\xgboost\\core.py:158: UserWarning: [14:50:57] WARNING: C:\\buildkite-agent\\builds\\buildkite-windows-cpu-autoscaling-group-i-0ed59c031377d09b8-1\\xgboost\\xgboost-ci-windows\\src\\learner.cc:740: \n",
      "Parameters: { \"scale_pos_weight\", \"use_label_encoder\" } are not used.\n",
      "\n",
      "  warnings.warn(smsg, UserWarning)\n"
     ]
    },
    {
     "name": "stdout",
     "output_type": "stream",
     "text": [
      "                       precision    recall  f1-score   support\n",
      "\n",
      "             Sentarse       0.75      0.75      0.75         4\n",
      "  caminar hacia atras       0.83      1.00      0.91         5\n",
      "caminar hacia delante       1.00      1.00      1.00         6\n",
      "                girar       1.00      1.00      1.00         1\n",
      "              pararse       1.00      0.75      0.86         4\n",
      "\n",
      "             accuracy                           0.90        20\n",
      "            macro avg       0.92      0.90      0.90        20\n",
      "         weighted avg       0.91      0.90      0.90        20\n",
      "\n",
      "Mejores hiperparámetros encontrados: {'colsample_bytree': 0.6, 'gamma': 0, 'learning_rate': 0.2, 'max_depth': 5, 'n_estimators': 50, 'scale_pos_weight': 1, 'subsample': 1.0}\n"
     ]
    }
   ],
   "source": [
    "modelo_xgboost = entrenar_modelo_xgboost(datos_procesados, etiquetas)"
   ]
  },
  {
   "cell_type": "code",
   "execution_count": 75,
   "metadata": {},
   "outputs": [
    {
     "name": "stdout",
     "output_type": "stream",
     "text": [
      "Fitting 5 folds for each of 96 candidates, totalling 480 fits\n",
      "                       precision    recall  f1-score   support\n",
      "\n",
      "             Sentarse       1.00      0.75      0.86         4\n",
      "  caminar hacia atras       0.83      1.00      0.91         5\n",
      "caminar hacia delante       1.00      1.00      1.00         6\n",
      "                girar       1.00      1.00      1.00         1\n",
      "              pararse       1.00      1.00      1.00         4\n",
      "\n",
      "             accuracy                           0.95        20\n",
      "            macro avg       0.97      0.95      0.95        20\n",
      "         weighted avg       0.96      0.95      0.95        20\n",
      "\n",
      "Mejores hiperparámetros: {'C': 0.1, 'degree': 4, 'gamma': 'auto', 'kernel': 'poly'}\n"
     ]
    }
   ],
   "source": [
    "modelo_svm = entrenar_modelo_svm(datos_procesados, etiquetas)"
   ]
  },
  {
   "cell_type": "code",
   "execution_count": 105,
   "metadata": {},
   "outputs": [],
   "source": [
    "def comparar_y_guardar_modelo(modelos, nombres, X_test, y_test, path_guardar):\n",
    "    \"\"\"\n",
    "    Compara las métricas de desempeño de varios modelos y guarda el mejor.\n",
    "\n",
    "    Parámetros:\n",
    "        modelos (list): Lista de modelos entrenados.\n",
    "        nombres (list): Lista de nombres de los modelos correspondientes.\n",
    "        X_test (ndarray): Características del conjunto de prueba.\n",
    "        y_test (ndarray): Etiquetas del conjunto de prueba.\n",
    "        path_guardar (str): Ruta donde se guardará el mejor modelo.\n",
    "    \"\"\"\n",
    "    # Verificar y convertir las etiquetas a formato numérico\n",
    "    label_encoder = LabelEncoder()\n",
    "    y_test_encoded = label_encoder.fit_transform(y_test)  # Codificar etiquetas de prueba\n",
    "    \n",
    "    mejores_métricas = {'modelo': None, 'nombre': '', 'f1_score': 0}\n",
    "\n",
    "    accuracy_list = []\n",
    "    f1_list = []\n",
    "    \n",
    "    for modelo, nombre in zip(modelos, nombres):\n",
    "        # Realizar predicciones con el modelo\n",
    "        y_pred = modelo.predict(X_test)\n",
    "        \n",
    "        # Asegurarse de que las predicciones también estén en formato numérico\n",
    "        try:\n",
    "            y_pred_encoded = label_encoder.transform(y_pred)  # Transformar predicciones si es necesario\n",
    "        except ValueError:\n",
    "            y_pred_encoded = y_pred  # Asumir que ya son numéricas si no requiere transformación\n",
    "        \n",
    "        # Calcular métricas\n",
    "        accuracy = accuracy_score(y_test_encoded, y_pred_encoded)\n",
    "        f1 = f1_score(y_test_encoded, y_pred_encoded, average='weighted')  # Weighted para datos desbalanceados\n",
    "\n",
    "        # Guardar las métricas para graficar\n",
    "        accuracy_list.append(accuracy)\n",
    "        f1_list.append(f1)\n",
    "        \n",
    "        # Mostrar métricas del modelo actual\n",
    "        print(f\"Métricas para {nombre}:\")\n",
    "        print(f\"Accuracy: {accuracy:.4f}, F1-score: {f1:.4f}\\n\")\n",
    "        \n",
    "        # Guardar el modelo con mejor F1-score\n",
    "        if f1 > mejores_métricas['f1_score']:\n",
    "            mejores_métricas['modelo'] = modelo\n",
    "            mejores_métricas['nombre'] = nombre\n",
    "            mejores_métricas['f1_score'] = f1\n",
    "    \n",
    "    # Guardar el mejor modelo usando la función `guardar_modelo`\n",
    "    print(f\"Mejor modelo: {mejores_métricas['nombre']} con F1-score: {mejores_métricas['f1_score']:.4f}\")\n",
    "    guardar_modelo(mejores_métricas['modelo'], path_guardar)\n",
    "    print(f\"Modelo guardado en {path_guardar}\")\n",
    "\n",
    "    # Generar gráficos para visualizar las métricas\n",
    "    generar_graficos(nombres, accuracy_list, f1_list)\n"
   ]
  },
  {
   "cell_type": "code",
   "execution_count": 107,
   "metadata": {},
   "outputs": [
    {
     "name": "stdout",
     "output_type": "stream",
     "text": [
      "Métricas para Random Forest:\n",
      "Accuracy: 0.8500, F1-score: 0.8548\n",
      "\n",
      "Métricas para XGBoost:\n",
      "Accuracy: 0.9000, F1-score: 0.8987\n",
      "\n",
      "Métricas para SVM:\n",
      "Accuracy: 0.9500, F1-score: 0.9487\n",
      "\n",
      "Mejor modelo: SVM con F1-score: 0.9487\n",
      "Modelo guardado en ../models/modelo_clasificacion_actividades.pkl\n"
     ]
    },
    {
     "data": {
      "image/png": "[encoded data removed]",
      "text/plain": [
       "<Figure size 1200x600 with 1 Axes>"
      ]
     },
     "metadata": {},
     "output_type": "display_data"
    }
   ],
   "source": [
    "modelos = [modelo_random_forest, modelo_xgboost, modelo_svm]\n",
    "nombres = ['Random Forest', 'XGBoost', 'SVM']\n",
    "\n",
    "# Dividir los datos (si no lo has hecho antes)\n",
    "X_train, X_test, y_train, y_test = train_test_split(\n",
    "    datos_procesados, etiquetas, test_size=0.2, random_state=42\n",
    ")\n",
    "\n",
    "# Comparar y guardar el mejor modelo\n",
    "comparar_y_guardar_modelo(modelos, nombres, X_test, y_test, '../models/modelo_clasificacion_actividades.pkl')"
   ]
  }
 ],
 "metadata": {
  "kernelspec": {
   "display_name": "Python 3 (ipykernel)",
   "language": "python",
   "name": "python3"
  },
  "language_info": {
   "codemirror_mode": {
    "name": "ipython",
    "version": 3
   },
   "file_extension": ".py",
   "mimetype": "text/x-python",
   "name": "python",
   "nbconvert_exporter": "python",
   "pygments_lexer": "ipython3",
   "version": "3.12.7"
  }
 },
 "nbformat": 4,
 "nbformat_minor": 4
}
